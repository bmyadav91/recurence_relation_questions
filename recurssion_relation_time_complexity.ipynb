{
 "cells": [
  {
   "cell_type": "code",
   "execution_count": null,
   "id": "eb539b61-911c-4c6a-95ae-6e8f75c3183a",
   "metadata": {},
   "outputs": [],
   "source": [
    "# 1. Find the value of T(2) for the recurrence relation T(n) = 3T(n-1) + 12n, given that T(0)=5."
   ]
  },
  {
   "cell_type": "code",
   "execution_count": null,
   "id": "18f97ade-6440-4587-a119-d9fd78233f91",
   "metadata": {},
   "outputs": [],
   "source": [
    "# # Answer\n",
    "# T(0) = 5 is given \n",
    "\n",
    "# find t(1)\n",
    "\n",
    "# t(1) = 3t(n-1) + 12(1)\n",
    "# t(1) = 3(0) + 12 * 1\n",
    "# t(1) = 3(5) + 12\n",
    "# t(1) = 15 + 12\n",
    "# t(1) = 27\n",
    "\n",
    "# Now Find t(2)\n",
    "\n",
    "# t(2) = 3t(n-1) + 12(2)\n",
    "# t(2) = 3(1) + 24\n",
    "# t(2) = 3(27) + 24\n",
    "# t(2) = 81 + 24\n",
    "# t(2) = 105"
   ]
  },
  {
   "cell_type": "code",
   "execution_count": null,
   "id": "268ad456-42a8-4c87-8b01-8ba0421ee1cc",
   "metadata": {},
   "outputs": [],
   "source": [
    "# 2. Given a rec%rrence relation, solve it %sing the s%bstit%tion method:\n",
    "# a. T(n) = T(n-1) + c\n",
    "# b. T(n) = 2T(n/2) + n\n",
    "# c. T(n) = 2T(n/2) + c\n",
    "# d. T(n) = T(n/2) + c"
   ]
  },
  {
   "cell_type": "code",
   "execution_count": null,
   "id": "4518a0ba-a395-4ba0-b664-53a8a59de543",
   "metadata": {},
   "outputs": [],
   "source": [
    "# # a. T(n) = T(n-1) + c\n",
    "# # Ans:\n",
    "# t(n) = t(n-1) + c\n",
    "#     = t(n-2) + c) + c \n",
    "#     = t(n-2) + 2c\n",
    "#     = t(n-3) + c ) + 2c\n",
    "#     = t(n-3) + 3c\n",
    "#     ...............\n",
    "#     = t(n-k) + kc\n",
    "\n",
    "#    when t(n-k) = 0 or n-k = 0 or k = n\n",
    "\n",
    "# so\n",
    "# t(n) = t(0) + nc"
   ]
  },
  {
   "cell_type": "code",
   "execution_count": null,
   "id": "fc94097f-80db-4e96-8139-39a32ad000cc",
   "metadata": {},
   "outputs": [],
   "source": [
    "# # b. T(n) = 2T(n/2) + n\n",
    "\n",
    "# Ans:\n",
    "\n",
    "# t(n/2) = 2t(n/2) + n/2\n",
    "# t(n) = 2t(2t(n/2) + n/2) + n/2\n",
    "# t(n) = 4t(n/4) + 2n\n",
    "# t(n/4) = 2t(n/8) + n/4\n",
    "# t(n) = 2t(2t(n/8)+n/4) + 2n\n",
    "# t(n) = 8t(n/8) + 3n\n",
    "# t(n/8) = 2t(8t(n/8) + 3n) + n/2\n",
    "# t(n) = 16t(n/16) + 4n\n",
    "\n",
    "# we can see here 2^k(n/2^k) + nk\n",
    "\n",
    "# now let's find k such that n/2^k = 1:\n",
    "# n/2^k = 1\n",
    "# n = 2^k\n",
    "# log {base 2}^n = k\n",
    "\n",
    "# # substitute log {base 2} n = k equation\n",
    "# t(n) = 2^log{base 2}^(n)t(n) + nLog{base 2}^(n)\n",
    "# t(n) = nt(1) + nlog{base 2}^(n)\n",
    "# given case t(1)"
   ]
  },
  {
   "cell_type": "code",
   "execution_count": null,
   "id": "6f6e43b6-2dd1-4018-b8b7-e876ea27a379",
   "metadata": {},
   "outputs": [],
   "source": [
    "# c. T(n) = 2T(n/2) + c\n",
    "\n",
    "# t(n/2) = 2t(2t(n/4) + c) + c\n",
    "# t(n) = 4t(n/4) + 2c\n",
    "# t(n/4) = 2t(4t(n/4) + 2c) + c\n",
    "# t(n) = 8t(n/8) + 3c) + c\n",
    "# t(n) = 8t(n/8) + 4c\n",
    "\n",
    "# # we can see here 2^k(n/2^k) + nk\n",
    "\n",
    "# # now let's find k such that n/2^k = 1:\n",
    "# # n/2^k = 1\n",
    "# # n = 2^k\n",
    "# # log {base 2}^n = k\n",
    "# given case t(1)"
   ]
  },
  {
   "cell_type": "code",
   "execution_count": null,
   "id": "326fe520-f706-4d34-b9e7-34fd58fab5d4",
   "metadata": {},
   "outputs": [],
   "source": [
    "# # d. T(n) = T(n/2) + c\n",
    "# t(n/2) = t(n/4) + 2c\n",
    "# t(n/4) = t(n/8) + 3c\n",
    "# t(n/8) = t(n/16) + 4c\n",
    "\n",
    "# as we can see t(n^2) = t(n^2) + kc\n",
    "# so assume n^2 = 1\n",
    "# t(1) + kc\n",
    "# now t(1) is solution "
   ]
  },
  {
   "cell_type": "code",
   "execution_count": null,
   "id": "d4f99914-65ba-47ca-98c1-22e4a0b58194",
   "metadata": {},
   "outputs": [],
   "source": [
    "# # 3. Given a recurrence relation, solve it using the recursive tree approach:\n",
    "# a. T(n) = 2T(n-1) +1\n",
    "\n",
    "# b. T(n) = 2T(n/2) + n"
   ]
  },
  {
   "cell_type": "code",
   "execution_count": null,
   "id": "0e7f4033-e764-4d8d-82ee-a79bfb7c5195",
   "metadata": {},
   "outputs": [],
   "source": [
    "# a. T(n) = 2T(n-1) +1\n",
    "\n",
    "# Ans:\n",
    "#               T(n)\n",
    "#              /    \\\n",
    "#         T(n-1)     T(n-1)\n",
    "#          /  \\       /   \\\n",
    "#     T(n-2)  T(n-2) T(n-2) T(n-2)\n",
    "#      / \\     / \\    / \\    / \\\n",
    "#   ...  ... ... ... ... ... ... ...\n",
    "# we can see here pattern\n",
    "# 2^0\n",
    "# 2^1\n",
    "# 2^2\n",
    "# each with a cost of 1\n",
    "\n",
    "# so \n",
    "# 1+2+3+4+ ....2^n-1 = 2^n-1\n",
    "# t(n) = 2^n-1\n",
    "# so Big Oh (2^n)"
   ]
  },
  {
   "cell_type": "code",
   "execution_count": null,
   "id": "a5f3b202-17b7-4a26-9cd4-31a96a26a949",
   "metadata": {},
   "outputs": [],
   "source": [
    "# b. T(n) = 2T(n/2) + n\n",
    "# Ans:\n",
    "\n",
    "#          T(n)\n",
    "#        /      \\\n",
    "#    T(n/2)     T(n/2)\n",
    "#    /    \\      /    \\\n",
    "# t(n/4)   t(n/4) ........\n",
    "# ............\n",
    "\n",
    "# we can see\n",
    "# t(n/2^k)\n",
    "# so \n",
    "# Total Cost = n(1 + 2 + 4 + .... + 2^{\\log_2 n - 1})\n",
    "\n",
    "# Therefore, the total cost Big oh (nlogn)"
   ]
  }
 ],
 "metadata": {
  "kernelspec": {
   "display_name": "Python 3 (ipykernel)",
   "language": "python",
   "name": "python3"
  },
  "language_info": {
   "codemirror_mode": {
    "name": "ipython",
    "version": 3
   },
   "file_extension": ".py",
   "mimetype": "text/x-python",
   "name": "python",
   "nbconvert_exporter": "python",
   "pygments_lexer": "ipython3",
   "version": "3.12.0"
  }
 },
 "nbformat": 4,
 "nbformat_minor": 5
}
